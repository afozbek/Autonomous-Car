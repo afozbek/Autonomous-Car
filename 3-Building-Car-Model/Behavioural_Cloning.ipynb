{
  "nbformat": 4,
  "nbformat_minor": 0,
  "metadata": {
    "colab": {
      "name": "Behavioural Cloning.ipynb",
      "version": "0.3.2",
      "provenance": [],
      "collapsed_sections": []
    },
    "kernelspec": {
      "name": "python3",
      "display_name": "Python 3"
    }
  },
  "cells": [
    {
      "metadata": {
        "id": "nKxNEt1FXbjt",
        "colab_type": "code",
        "outputId": "11c4afbc-9281-45c0-c082-27277c032b40",
        "colab": {
          "base_uri": "https://localhost:8080/",
          "height": 136
        }
      },
      "cell_type": "code",
      "source": [
        "!git clone https://github.com/afozbek/Track_Data"
      ],
      "execution_count": 2,
      "outputs": [
        {
          "output_type": "stream",
          "text": [
            "Cloning into 'Track_Data'...\n",
            "remote: Enumerating objects: 12850, done.\u001b[K\n",
            "remote: Counting objects: 100% (12850/12850), done.\u001b[K\n",
            "remote: Compressing objects: 100% (12850/12850), done.\u001b[K\n",
            "remote: Total 12850 (delta 0), reused 12850 (delta 0), pack-reused 0\u001b[K\n",
            "Receiving objects: 100% (12850/12850), 156.69 MiB | 39.89 MiB/s, done.\n",
            "Checking out files: 100% (13036/13036), done.\n"
          ],
          "name": "stdout"
        }
      ]
    },
    {
      "metadata": {
        "id": "EEhmeZVTXje8",
        "colab_type": "code",
        "outputId": "9f48f371-a909-49b3-824d-cab65752ebf8",
        "colab": {
          "base_uri": "https://localhost:8080/",
          "height": 34
        }
      },
      "cell_type": "code",
      "source": [
        "!ls Track_Data"
      ],
      "execution_count": 3,
      "outputs": [
        {
          "output_type": "stream",
          "text": [
            "driving_log.csv  IMG\n"
          ],
          "name": "stdout"
        }
      ]
    },
    {
      "metadata": {
        "id": "vMDXTvpqXsl8",
        "colab_type": "code",
        "colab": {}
      },
      "cell_type": "code",
      "source": [
        "import os\n",
        "import numpy as np\n",
        "import matplotlib.pyplot as plt\n",
        "import keras\n",
        "from keras.models import Sequential\n",
        "from keras.optimizers import Adam\n",
        "from keras.layers import Conv2D, MaxPooling2D, Dropout, Flatten, Dense\n",
        "from sklearn.utils import shuffle\n",
        "from sklearn.model_selection import train_test_split\n",
        "import cv2\n",
        "import pandas as pd\n",
        "import ntpath\n",
        "import random"
      ],
      "execution_count": 0,
      "outputs": []
    },
    {
      "metadata": {
        "id": "J6V6QzsLYKJ6",
        "colab_type": "code",
        "outputId": "01f163ee-d8e3-4195-d23d-1f4d3240a3fc",
        "colab": {
          "base_uri": "https://localhost:8080/",
          "height": 309
        }
      },
      "cell_type": "code",
      "source": [
        "datadir = 'Track_Data'\n",
        "columns = ['center', 'left', 'right',\n",
        "           'steering', 'throttle', 'reverse', 'speed']\n",
        "data = pd.read_csv(os.path.join(datadir, 'driving_log.csv'),\n",
        "             names=columns)\n",
        "pd.set_option('display.max_colwidth', -1)\n",
        "data.head()"
      ],
      "execution_count": 5,
      "outputs": [
        {
          "output_type": "execute_result",
          "data": {
            "text/html": [
              "<div>\n",
              "<style scoped>\n",
              "    .dataframe tbody tr th:only-of-type {\n",
              "        vertical-align: middle;\n",
              "    }\n",
              "\n",
              "    .dataframe tbody tr th {\n",
              "        vertical-align: top;\n",
              "    }\n",
              "\n",
              "    .dataframe thead th {\n",
              "        text-align: right;\n",
              "    }\n",
              "</style>\n",
              "<table border=\"1\" class=\"dataframe\">\n",
              "  <thead>\n",
              "    <tr style=\"text-align: right;\">\n",
              "      <th></th>\n",
              "      <th>center</th>\n",
              "      <th>left</th>\n",
              "      <th>right</th>\n",
              "      <th>steering</th>\n",
              "      <th>throttle</th>\n",
              "      <th>reverse</th>\n",
              "      <th>speed</th>\n",
              "    </tr>\n",
              "  </thead>\n",
              "  <tbody>\n",
              "    <tr>\n",
              "      <th>0</th>\n",
              "      <td>C:\\Users\\Furkan-Ozbek\\Desktop\\DATA\\IMG\\center_2019_01_29_18_32_35_352.jpg</td>\n",
              "      <td>C:\\Users\\Furkan-Ozbek\\Desktop\\DATA\\IMG\\left_2019_01_29_18_32_35_352.jpg</td>\n",
              "      <td>C:\\Users\\Furkan-Ozbek\\Desktop\\DATA\\IMG\\right_2019_01_29_18_32_35_352.jpg</td>\n",
              "      <td>0.0</td>\n",
              "      <td>0.0</td>\n",
              "      <td>0.0</td>\n",
              "      <td>0.000084</td>\n",
              "    </tr>\n",
              "    <tr>\n",
              "      <th>1</th>\n",
              "      <td>C:\\Users\\Furkan-Ozbek\\Desktop\\DATA\\IMG\\center_2019_01_29_18_32_35_454.jpg</td>\n",
              "      <td>C:\\Users\\Furkan-Ozbek\\Desktop\\DATA\\IMG\\left_2019_01_29_18_32_35_454.jpg</td>\n",
              "      <td>C:\\Users\\Furkan-Ozbek\\Desktop\\DATA\\IMG\\right_2019_01_29_18_32_35_454.jpg</td>\n",
              "      <td>0.0</td>\n",
              "      <td>0.0</td>\n",
              "      <td>0.0</td>\n",
              "      <td>0.000080</td>\n",
              "    </tr>\n",
              "    <tr>\n",
              "      <th>2</th>\n",
              "      <td>C:\\Users\\Furkan-Ozbek\\Desktop\\DATA\\IMG\\center_2019_01_29_18_32_35_560.jpg</td>\n",
              "      <td>C:\\Users\\Furkan-Ozbek\\Desktop\\DATA\\IMG\\left_2019_01_29_18_32_35_560.jpg</td>\n",
              "      <td>C:\\Users\\Furkan-Ozbek\\Desktop\\DATA\\IMG\\right_2019_01_29_18_32_35_560.jpg</td>\n",
              "      <td>0.0</td>\n",
              "      <td>0.0</td>\n",
              "      <td>0.0</td>\n",
              "      <td>0.000079</td>\n",
              "    </tr>\n",
              "    <tr>\n",
              "      <th>3</th>\n",
              "      <td>C:\\Users\\Furkan-Ozbek\\Desktop\\DATA\\IMG\\center_2019_01_29_18_32_35_664.jpg</td>\n",
              "      <td>C:\\Users\\Furkan-Ozbek\\Desktop\\DATA\\IMG\\left_2019_01_29_18_32_35_664.jpg</td>\n",
              "      <td>C:\\Users\\Furkan-Ozbek\\Desktop\\DATA\\IMG\\right_2019_01_29_18_32_35_664.jpg</td>\n",
              "      <td>0.0</td>\n",
              "      <td>0.0</td>\n",
              "      <td>0.0</td>\n",
              "      <td>0.000078</td>\n",
              "    </tr>\n",
              "    <tr>\n",
              "      <th>4</th>\n",
              "      <td>C:\\Users\\Furkan-Ozbek\\Desktop\\DATA\\IMG\\center_2019_01_29_18_32_35_785.jpg</td>\n",
              "      <td>C:\\Users\\Furkan-Ozbek\\Desktop\\DATA\\IMG\\left_2019_01_29_18_32_35_785.jpg</td>\n",
              "      <td>C:\\Users\\Furkan-Ozbek\\Desktop\\DATA\\IMG\\right_2019_01_29_18_32_35_785.jpg</td>\n",
              "      <td>0.0</td>\n",
              "      <td>0.0</td>\n",
              "      <td>0.0</td>\n",
              "      <td>0.000080</td>\n",
              "    </tr>\n",
              "  </tbody>\n",
              "</table>\n",
              "</div>"
            ],
            "text/plain": [
              "                                                                      center  \\\n",
              "0  C:\\Users\\Furkan-Ozbek\\Desktop\\DATA\\IMG\\center_2019_01_29_18_32_35_352.jpg   \n",
              "1  C:\\Users\\Furkan-Ozbek\\Desktop\\DATA\\IMG\\center_2019_01_29_18_32_35_454.jpg   \n",
              "2  C:\\Users\\Furkan-Ozbek\\Desktop\\DATA\\IMG\\center_2019_01_29_18_32_35_560.jpg   \n",
              "3  C:\\Users\\Furkan-Ozbek\\Desktop\\DATA\\IMG\\center_2019_01_29_18_32_35_664.jpg   \n",
              "4  C:\\Users\\Furkan-Ozbek\\Desktop\\DATA\\IMG\\center_2019_01_29_18_32_35_785.jpg   \n",
              "\n",
              "                                                                       left  \\\n",
              "0   C:\\Users\\Furkan-Ozbek\\Desktop\\DATA\\IMG\\left_2019_01_29_18_32_35_352.jpg   \n",
              "1   C:\\Users\\Furkan-Ozbek\\Desktop\\DATA\\IMG\\left_2019_01_29_18_32_35_454.jpg   \n",
              "2   C:\\Users\\Furkan-Ozbek\\Desktop\\DATA\\IMG\\left_2019_01_29_18_32_35_560.jpg   \n",
              "3   C:\\Users\\Furkan-Ozbek\\Desktop\\DATA\\IMG\\left_2019_01_29_18_32_35_664.jpg   \n",
              "4   C:\\Users\\Furkan-Ozbek\\Desktop\\DATA\\IMG\\left_2019_01_29_18_32_35_785.jpg   \n",
              "\n",
              "                                                                       right  \\\n",
              "0   C:\\Users\\Furkan-Ozbek\\Desktop\\DATA\\IMG\\right_2019_01_29_18_32_35_352.jpg   \n",
              "1   C:\\Users\\Furkan-Ozbek\\Desktop\\DATA\\IMG\\right_2019_01_29_18_32_35_454.jpg   \n",
              "2   C:\\Users\\Furkan-Ozbek\\Desktop\\DATA\\IMG\\right_2019_01_29_18_32_35_560.jpg   \n",
              "3   C:\\Users\\Furkan-Ozbek\\Desktop\\DATA\\IMG\\right_2019_01_29_18_32_35_664.jpg   \n",
              "4   C:\\Users\\Furkan-Ozbek\\Desktop\\DATA\\IMG\\right_2019_01_29_18_32_35_785.jpg   \n",
              "\n",
              "   steering  throttle  reverse     speed  \n",
              "0  0.0       0.0       0.0      0.000084  \n",
              "1  0.0       0.0       0.0      0.000080  \n",
              "2  0.0       0.0       0.0      0.000079  \n",
              "3  0.0       0.0       0.0      0.000078  \n",
              "4  0.0       0.0       0.0      0.000080  "
            ]
          },
          "metadata": {
            "tags": []
          },
          "execution_count": 5
        }
      ]
    },
    {
      "metadata": {
        "id": "C7i0f0VLadHM",
        "colab_type": "code",
        "colab": {
          "base_uri": "https://localhost:8080/",
          "height": 224
        },
        "outputId": "bb8d9324-0ebe-4447-9c2a-647c07b74e3e"
      },
      "cell_type": "code",
      "source": [
        "def path_leaf(path):\n",
        "  head, tail = ntpath.split(path)\n",
        "  return tail\n",
        "data['center'] = data['center'].apply(path_leaf)\n",
        "data['left'] = data['left'].apply(path_leaf)\n",
        "data['right'] = data['right'].apply(path_leaf)\n",
        "data.head()"
      ],
      "execution_count": 6,
      "outputs": [
        {
          "output_type": "execute_result",
          "data": {
            "text/html": [
              "<div>\n",
              "<style scoped>\n",
              "    .dataframe tbody tr th:only-of-type {\n",
              "        vertical-align: middle;\n",
              "    }\n",
              "\n",
              "    .dataframe tbody tr th {\n",
              "        vertical-align: top;\n",
              "    }\n",
              "\n",
              "    .dataframe thead th {\n",
              "        text-align: right;\n",
              "    }\n",
              "</style>\n",
              "<table border=\"1\" class=\"dataframe\">\n",
              "  <thead>\n",
              "    <tr style=\"text-align: right;\">\n",
              "      <th></th>\n",
              "      <th>center</th>\n",
              "      <th>left</th>\n",
              "      <th>right</th>\n",
              "      <th>steering</th>\n",
              "      <th>throttle</th>\n",
              "      <th>reverse</th>\n",
              "      <th>speed</th>\n",
              "    </tr>\n",
              "  </thead>\n",
              "  <tbody>\n",
              "    <tr>\n",
              "      <th>0</th>\n",
              "      <td>center_2019_01_29_18_32_35_352.jpg</td>\n",
              "      <td>left_2019_01_29_18_32_35_352.jpg</td>\n",
              "      <td>right_2019_01_29_18_32_35_352.jpg</td>\n",
              "      <td>0.0</td>\n",
              "      <td>0.0</td>\n",
              "      <td>0.0</td>\n",
              "      <td>0.000084</td>\n",
              "    </tr>\n",
              "    <tr>\n",
              "      <th>1</th>\n",
              "      <td>center_2019_01_29_18_32_35_454.jpg</td>\n",
              "      <td>left_2019_01_29_18_32_35_454.jpg</td>\n",
              "      <td>right_2019_01_29_18_32_35_454.jpg</td>\n",
              "      <td>0.0</td>\n",
              "      <td>0.0</td>\n",
              "      <td>0.0</td>\n",
              "      <td>0.000080</td>\n",
              "    </tr>\n",
              "    <tr>\n",
              "      <th>2</th>\n",
              "      <td>center_2019_01_29_18_32_35_560.jpg</td>\n",
              "      <td>left_2019_01_29_18_32_35_560.jpg</td>\n",
              "      <td>right_2019_01_29_18_32_35_560.jpg</td>\n",
              "      <td>0.0</td>\n",
              "      <td>0.0</td>\n",
              "      <td>0.0</td>\n",
              "      <td>0.000079</td>\n",
              "    </tr>\n",
              "    <tr>\n",
              "      <th>3</th>\n",
              "      <td>center_2019_01_29_18_32_35_664.jpg</td>\n",
              "      <td>left_2019_01_29_18_32_35_664.jpg</td>\n",
              "      <td>right_2019_01_29_18_32_35_664.jpg</td>\n",
              "      <td>0.0</td>\n",
              "      <td>0.0</td>\n",
              "      <td>0.0</td>\n",
              "      <td>0.000078</td>\n",
              "    </tr>\n",
              "    <tr>\n",
              "      <th>4</th>\n",
              "      <td>center_2019_01_29_18_32_35_785.jpg</td>\n",
              "      <td>left_2019_01_29_18_32_35_785.jpg</td>\n",
              "      <td>right_2019_01_29_18_32_35_785.jpg</td>\n",
              "      <td>0.0</td>\n",
              "      <td>0.0</td>\n",
              "      <td>0.0</td>\n",
              "      <td>0.000080</td>\n",
              "    </tr>\n",
              "  </tbody>\n",
              "</table>\n",
              "</div>"
            ],
            "text/plain": [
              "                               center                              left  \\\n",
              "0  center_2019_01_29_18_32_35_352.jpg  left_2019_01_29_18_32_35_352.jpg   \n",
              "1  center_2019_01_29_18_32_35_454.jpg  left_2019_01_29_18_32_35_454.jpg   \n",
              "2  center_2019_01_29_18_32_35_560.jpg  left_2019_01_29_18_32_35_560.jpg   \n",
              "3  center_2019_01_29_18_32_35_664.jpg  left_2019_01_29_18_32_35_664.jpg   \n",
              "4  center_2019_01_29_18_32_35_785.jpg  left_2019_01_29_18_32_35_785.jpg   \n",
              "\n",
              "                               right  steering  throttle  reverse     speed  \n",
              "0  right_2019_01_29_18_32_35_352.jpg  0.0       0.0       0.0      0.000084  \n",
              "1  right_2019_01_29_18_32_35_454.jpg  0.0       0.0       0.0      0.000080  \n",
              "2  right_2019_01_29_18_32_35_560.jpg  0.0       0.0       0.0      0.000079  \n",
              "3  right_2019_01_29_18_32_35_664.jpg  0.0       0.0       0.0      0.000078  \n",
              "4  right_2019_01_29_18_32_35_785.jpg  0.0       0.0       0.0      0.000080  "
            ]
          },
          "metadata": {
            "tags": []
          },
          "execution_count": 6
        }
      ]
    },
    {
      "metadata": {
        "id": "8OK9pGCla9A8",
        "colab_type": "code",
        "colab": {
          "base_uri": "https://localhost:8080/",
          "height": 364
        },
        "outputId": "aa3654f0-a8bf-4022-e192-05091c1b65fc"
      },
      "cell_type": "code",
      "source": [
        "num_bins = 25\n",
        "samples_per_bin = 200\n",
        "hist, bins = np.histogram(data['steering'], num_bins)\n",
        "center = (bins[:-1] + bins[1:]) * 0.5\n",
        "plt.bar(center, hist, width = 0.05)\n",
        "plt.plot((np.min(data['steering']), np.max(data['steering'])),\n",
        "        (samples_per_bin, samples_per_bin))"
      ],
      "execution_count": 7,
      "outputs": [
        {
          "output_type": "execute_result",
          "data": {
            "text/plain": [
              "[<matplotlib.lines.Line2D at 0x7ff71e24aa20>]"
            ]
          },
          "metadata": {
            "tags": []
          },
          "execution_count": 7
        },
        {
          "output_type": "display_data",
          "data": {
            "image/png": "[encoded data removed]",
            "text/plain": [
              "<Figure size 576x396 with 1 Axes>"
            ]
          },
          "metadata": {
            "tags": []
          }
        }
      ]
    },
    {
      "metadata": {
        "id": "Xpn_YPdedOHe",
        "colab_type": "code",
        "colab": {
          "base_uri": "https://localhost:8080/",
          "height": 415
        },
        "outputId": "25a9a3de-041a-456a-f8e0-136dbaf2abf4"
      },
      "cell_type": "code",
      "source": [
        "print('total data:', len(data))\n",
        "remove_list = []\n",
        "for j in range(num_bins):\n",
        "  list_ = []\n",
        "  for i in range(len(data['steering'])):\n",
        "    if data['steering'][i] >= bins[j] and data['steering'][i] <= bins[j + 1]:\n",
        "      list_.append(i)\n",
        "  list_ = shuffle(list_)\n",
        "  list_ = list_[samples_per_bin:]\n",
        "  remove_list.extend(list_)\n",
        "\n",
        "print('removed', len(remove_list))\n",
        "data.drop(data.index[remove_list], inplace=True)\n",
        "print('remaining', len(data))\n",
        "\n",
        "hist, _ = np.histogram(data['steering'], (num_bins))\n",
        "plt.bar(center, hist, width = 0.05)\n",
        "plt.plot((np.min(data['steering']), np.max(data['steering'])),\n",
        "        (samples_per_bin, samples_per_bin))"
      ],
      "execution_count": 8,
      "outputs": [
        {
          "output_type": "stream",
          "text": [
            "total data: 4345\n",
            "removed 3202\n",
            "remaining 1143\n"
          ],
          "name": "stdout"
        },
        {
          "output_type": "execute_result",
          "data": {
            "text/plain": [
              "[<matplotlib.lines.Line2D at 0x7ff71e2a73c8>]"
            ]
          },
          "metadata": {
            "tags": []
          },
          "execution_count": 8
        },
        {
          "output_type": "display_data",
          "data": {
            "image/png": "[encoded data removed]",
            "text/plain": [
              "<Figure size 576x396 with 1 Axes>"
            ]
          },
          "metadata": {
            "tags": []
          }
        }
      ]
    },
    {
      "metadata": {
        "id": "s1_WtcuwjNtP",
        "colab_type": "code",
        "colab": {
          "base_uri": "https://localhost:8080/",
          "height": 153
        },
        "outputId": "5da25cac-afde-4aeb-a18f-cbbfd3216d04"
      },
      "cell_type": "code",
      "source": [
        "print(data.iloc[1]) #iloc-->records based on the indexes\n",
        "def load_img_steering(datadir, data):\n",
        "  image_path = []\n",
        "  steering = []\n",
        "  for i in range(len(data)):\n",
        "    indexed_data = data.iloc[i]\n",
        "    center, left, right = indexed_data[0], indexed_data[1], indexed_data[2]\n",
        "    image_path.append(os.path.join(datadir, center.strip()))\n",
        "    steering.append(float(indexed_data[3]))\n",
        "  #Convert the input to an array.  \n",
        "  image_paths = np.asarray(image_path) \n",
        "  steerings = np.asarray(steering)\n",
        "  return image_paths, steerings\n",
        "\n",
        "image_paths, steerings = load_img_steering(datadir + '/IMG', data)"
      ],
      "execution_count": 12,
      "outputs": [
        {
          "output_type": "stream",
          "text": [
            "center      center_2019_01_29_18_32_37_167.jpg\n",
            "left        left_2019_01_29_18_32_37_167.jpg  \n",
            "right       right_2019_01_29_18_32_37_167.jpg \n",
            "steering   -0.301282                          \n",
            "throttle    0.301282                          \n",
            "reverse     0                                 \n",
            "speed       0.619281                          \n",
            "Name: 17, dtype: object\n"
          ],
          "name": "stdout"
        }
      ]
    },
    {
      "metadata": {
        "id": "xHcNK6s94M1G",
        "colab_type": "code",
        "colab": {}
      },
      "cell_type": "code",
      "source": [
        "#Split arrays or matrices into random train and test subsets\n",
        "X_train, X_valid, y_train, y_valid = train_test_split(image_paths, steerings, test_size=0.2, random_state=6)"
      ],
      "execution_count": 0,
      "outputs": []
    },
    {
      "metadata": {
        "id": "8DZdkP7z5BXU",
        "colab_type": "code",
        "colab": {
          "base_uri": "https://localhost:8080/",
          "height": 51
        },
        "outputId": "127eeba4-543a-4ade-b377-fce4366feecb"
      },
      "cell_type": "code",
      "source": [
        "print('Training Samples: {}\\nValid Samples: {}'.format(len(X_train), len(X_valid)))"
      ],
      "execution_count": 23,
      "outputs": [
        {
          "output_type": "stream",
          "text": [
            "Training Samples: 914\n",
            "Valid Samples: 229\n"
          ],
          "name": "stdout"
        }
      ]
    },
    {
      "metadata": {
        "id": "OGpXf6lF6nTA",
        "colab_type": "code",
        "colab": {
          "base_uri": "https://localhost:8080/",
          "height": 317
        },
        "outputId": "ce4bd149-e1dc-4696-d866-b13ccff6ae2b"
      },
      "cell_type": "code",
      "source": [
        "fig, axes = plt.subplots(1, 2, figsize=(12, 4))\n",
        "axes[0].hist(y_train, bins=num_bins, width=0.05, color='blue')\n",
        "axes[0].set_title('Training set')\n",
        "axes[1].hist(y_valid, bins=num_bins, width=0.05, color='red')\n",
        "axes[1].set_title('Valid set')"
      ],
      "execution_count": 24,
      "outputs": [
        {
          "output_type": "execute_result",
          "data": {
            "text/plain": [
              "Text(0.5, 1.0, 'Valid set')"
            ]
          },
          "metadata": {
            "tags": []
          },
          "execution_count": 24
        },
        {
          "output_type": "display_data",
          "data": {
            "image/png": "[encoded data removed]",
            "text/plain": [
              "<Figure size 864x288 with 2 Axes>"
            ]
          },
          "metadata": {
            "tags": []
          }
        }
      ]
    },
    {
      "metadata": {
        "id": "O7U5f7OQ7p60",
        "colab_type": "code",
        "colab": {}
      },
      "cell_type": "code",
      "source": [
        ""
      ],
      "execution_count": 0,
      "outputs": []
    }
  ]
}