{
  "nbformat": 4,
  "nbformat_minor": 0,
  "metadata": {
    "colab": {
      "name": "Behavioural Cloning.ipynb",
      "version": "0.3.2",
      "provenance": [],
      "collapsed_sections": []
    },
    "kernelspec": {
      "name": "python3",
      "display_name": "Python 3"
    }
  },
  "cells": [
    {
      "metadata": {
        "id": "nKxNEt1FXbjt",
        "colab_type": "code",
        "colab": {
          "base_uri": "https://localhost:8080/",
          "height": 34
        },
        "outputId": "1cc2ba42-08a9-488c-fd30-0532999ffbf2"
      },
      "cell_type": "code",
      "source": [
        "!git clone https://github.com/afozbek/Track_Data"
      ],
      "execution_count": 25,
      "outputs": [
        {
          "output_type": "stream",
          "text": [
            "fatal: destination path 'Track_Data' already exists and is not an empty directory.\n"
          ],
          "name": "stdout"
        }
      ]
    },
    {
      "metadata": {
        "id": "EEhmeZVTXje8",
        "colab_type": "code",
        "colab": {
          "base_uri": "https://localhost:8080/",
          "height": 34
        },
        "outputId": "63211bd1-ab97-4910-90ed-47a9af718416"
      },
      "cell_type": "code",
      "source": [
        "!ls Track_Data"
      ],
      "execution_count": 26,
      "outputs": [
        {
          "output_type": "stream",
          "text": [
            "driving_log.csv  IMG\n"
          ],
          "name": "stdout"
        }
      ]
    },
    {
      "metadata": {
        "id": "vMDXTvpqXsl8",
        "colab_type": "code",
        "colab": {}
      },
      "cell_type": "code",
      "source": [
        "import os\n",
        "import numpy as np\n",
        "import matplotlib.pyplot as plt\n",
        "import keras\n",
        "from keras.models import Sequential\n",
        "from keras.optimizers import Adam\n",
        "from keras.layers import Conv2D, MaxPooling2D, Dropout, Flatten, Dense\n",
        "from sklearn.utils import shuffle\n",
        "import cv2\n",
        "import pandas as pd\n",
        "import ntpath\n",
        "import random"
      ],
      "execution_count": 0,
      "outputs": []
    },
    {
      "metadata": {
        "id": "J6V6QzsLYKJ6",
        "colab_type": "code",
        "colab": {
          "base_uri": "https://localhost:8080/",
          "height": 309
        },
        "outputId": "8e43c3ab-b2a1-47a2-d775-ef277df05c1d"
      },
      "cell_type": "code",
      "source": [
        "datadir = 'Track_Data'\n",
        "columns = ['center', 'left', 'right',\n",
        "           'steering', 'throttle', 'reverse', 'speed']\n",
        "data = pd.read_csv(os.path.join(datadir, 'driving_log.csv'),\n",
        "             names=columns)\n",
        "pd.set_option('display.max_colwidth', -1)\n",
        "data.head()"
      ],
      "execution_count": 28,
      "outputs": [
        {
          "output_type": "execute_result",
          "data": {
            "text/html": [
              "<div>\n",
              "<style scoped>\n",
              "    .dataframe tbody tr th:only-of-type {\n",
              "        vertical-align: middle;\n",
              "    }\n",
              "\n",
              "    .dataframe tbody tr th {\n",
              "        vertical-align: top;\n",
              "    }\n",
              "\n",
              "    .dataframe thead th {\n",
              "        text-align: right;\n",
              "    }\n",
              "</style>\n",
              "<table border=\"1\" class=\"dataframe\">\n",
              "  <thead>\n",
              "    <tr style=\"text-align: right;\">\n",
              "      <th></th>\n",
              "      <th>center</th>\n",
              "      <th>left</th>\n",
              "      <th>right</th>\n",
              "      <th>steering</th>\n",
              "      <th>throttle</th>\n",
              "      <th>reverse</th>\n",
              "      <th>speed</th>\n",
              "    </tr>\n",
              "  </thead>\n",
              "  <tbody>\n",
              "    <tr>\n",
              "      <th>0</th>\n",
              "      <td>C:\\Users\\Furkan-Ozbek\\Desktop\\DATA\\IMG\\center_2019_01_29_18_32_35_352.jpg</td>\n",
              "      <td>C:\\Users\\Furkan-Ozbek\\Desktop\\DATA\\IMG\\left_2019_01_29_18_32_35_352.jpg</td>\n",
              "      <td>C:\\Users\\Furkan-Ozbek\\Desktop\\DATA\\IMG\\right_2019_01_29_18_32_35_352.jpg</td>\n",
              "      <td>0.0</td>\n",
              "      <td>0.0</td>\n",
              "      <td>0.0</td>\n",
              "      <td>0.000084</td>\n",
              "    </tr>\n",
              "    <tr>\n",
              "      <th>1</th>\n",
              "      <td>C:\\Users\\Furkan-Ozbek\\Desktop\\DATA\\IMG\\center_2019_01_29_18_32_35_454.jpg</td>\n",
              "      <td>C:\\Users\\Furkan-Ozbek\\Desktop\\DATA\\IMG\\left_2019_01_29_18_32_35_454.jpg</td>\n",
              "      <td>C:\\Users\\Furkan-Ozbek\\Desktop\\DATA\\IMG\\right_2019_01_29_18_32_35_454.jpg</td>\n",
              "      <td>0.0</td>\n",
              "      <td>0.0</td>\n",
              "      <td>0.0</td>\n",
              "      <td>0.000080</td>\n",
              "    </tr>\n",
              "    <tr>\n",
              "      <th>2</th>\n",
              "      <td>C:\\Users\\Furkan-Ozbek\\Desktop\\DATA\\IMG\\center_2019_01_29_18_32_35_560.jpg</td>\n",
              "      <td>C:\\Users\\Furkan-Ozbek\\Desktop\\DATA\\IMG\\left_2019_01_29_18_32_35_560.jpg</td>\n",
              "      <td>C:\\Users\\Furkan-Ozbek\\Desktop\\DATA\\IMG\\right_2019_01_29_18_32_35_560.jpg</td>\n",
              "      <td>0.0</td>\n",
              "      <td>0.0</td>\n",
              "      <td>0.0</td>\n",
              "      <td>0.000079</td>\n",
              "    </tr>\n",
              "    <tr>\n",
              "      <th>3</th>\n",
              "      <td>C:\\Users\\Furkan-Ozbek\\Desktop\\DATA\\IMG\\center_2019_01_29_18_32_35_664.jpg</td>\n",
              "      <td>C:\\Users\\Furkan-Ozbek\\Desktop\\DATA\\IMG\\left_2019_01_29_18_32_35_664.jpg</td>\n",
              "      <td>C:\\Users\\Furkan-Ozbek\\Desktop\\DATA\\IMG\\right_2019_01_29_18_32_35_664.jpg</td>\n",
              "      <td>0.0</td>\n",
              "      <td>0.0</td>\n",
              "      <td>0.0</td>\n",
              "      <td>0.000078</td>\n",
              "    </tr>\n",
              "    <tr>\n",
              "      <th>4</th>\n",
              "      <td>C:\\Users\\Furkan-Ozbek\\Desktop\\DATA\\IMG\\center_2019_01_29_18_32_35_785.jpg</td>\n",
              "      <td>C:\\Users\\Furkan-Ozbek\\Desktop\\DATA\\IMG\\left_2019_01_29_18_32_35_785.jpg</td>\n",
              "      <td>C:\\Users\\Furkan-Ozbek\\Desktop\\DATA\\IMG\\right_2019_01_29_18_32_35_785.jpg</td>\n",
              "      <td>0.0</td>\n",
              "      <td>0.0</td>\n",
              "      <td>0.0</td>\n",
              "      <td>0.000080</td>\n",
              "    </tr>\n",
              "  </tbody>\n",
              "</table>\n",
              "</div>"
            ],
            "text/plain": [
              "                                                                      center  \\\n",
              "0  C:\\Users\\Furkan-Ozbek\\Desktop\\DATA\\IMG\\center_2019_01_29_18_32_35_352.jpg   \n",
              "1  C:\\Users\\Furkan-Ozbek\\Desktop\\DATA\\IMG\\center_2019_01_29_18_32_35_454.jpg   \n",
              "2  C:\\Users\\Furkan-Ozbek\\Desktop\\DATA\\IMG\\center_2019_01_29_18_32_35_560.jpg   \n",
              "3  C:\\Users\\Furkan-Ozbek\\Desktop\\DATA\\IMG\\center_2019_01_29_18_32_35_664.jpg   \n",
              "4  C:\\Users\\Furkan-Ozbek\\Desktop\\DATA\\IMG\\center_2019_01_29_18_32_35_785.jpg   \n",
              "\n",
              "                                                                       left  \\\n",
              "0   C:\\Users\\Furkan-Ozbek\\Desktop\\DATA\\IMG\\left_2019_01_29_18_32_35_352.jpg   \n",
              "1   C:\\Users\\Furkan-Ozbek\\Desktop\\DATA\\IMG\\left_2019_01_29_18_32_35_454.jpg   \n",
              "2   C:\\Users\\Furkan-Ozbek\\Desktop\\DATA\\IMG\\left_2019_01_29_18_32_35_560.jpg   \n",
              "3   C:\\Users\\Furkan-Ozbek\\Desktop\\DATA\\IMG\\left_2019_01_29_18_32_35_664.jpg   \n",
              "4   C:\\Users\\Furkan-Ozbek\\Desktop\\DATA\\IMG\\left_2019_01_29_18_32_35_785.jpg   \n",
              "\n",
              "                                                                       right  \\\n",
              "0   C:\\Users\\Furkan-Ozbek\\Desktop\\DATA\\IMG\\right_2019_01_29_18_32_35_352.jpg   \n",
              "1   C:\\Users\\Furkan-Ozbek\\Desktop\\DATA\\IMG\\right_2019_01_29_18_32_35_454.jpg   \n",
              "2   C:\\Users\\Furkan-Ozbek\\Desktop\\DATA\\IMG\\right_2019_01_29_18_32_35_560.jpg   \n",
              "3   C:\\Users\\Furkan-Ozbek\\Desktop\\DATA\\IMG\\right_2019_01_29_18_32_35_664.jpg   \n",
              "4   C:\\Users\\Furkan-Ozbek\\Desktop\\DATA\\IMG\\right_2019_01_29_18_32_35_785.jpg   \n",
              "\n",
              "   steering  throttle  reverse     speed  \n",
              "0  0.0       0.0       0.0      0.000084  \n",
              "1  0.0       0.0       0.0      0.000080  \n",
              "2  0.0       0.0       0.0      0.000079  \n",
              "3  0.0       0.0       0.0      0.000078  \n",
              "4  0.0       0.0       0.0      0.000080  "
            ]
          },
          "metadata": {
            "tags": []
          },
          "execution_count": 28
        }
      ]
    },
    {
      "metadata": {
        "id": "C7i0f0VLadHM",
        "colab_type": "code",
        "colab": {
          "base_uri": "https://localhost:8080/",
          "height": 224
        },
        "outputId": "7c5ea4dd-0ee1-4ae6-e8a2-46676c09fb14"
      },
      "cell_type": "code",
      "source": [
        "def path_leaf(path):\n",
        "  head, tail = ntpath.split(path)\n",
        "  return tail\n",
        "data['center'] = data['center'].apply(path_leaf)\n",
        "data['left'] = data['left'].apply(path_leaf)\n",
        "data['right'] = data['right'].apply(path_leaf)\n",
        "data.head()"
      ],
      "execution_count": 29,
      "outputs": [
        {
          "output_type": "execute_result",
          "data": {
            "text/html": [
              "<div>\n",
              "<style scoped>\n",
              "    .dataframe tbody tr th:only-of-type {\n",
              "        vertical-align: middle;\n",
              "    }\n",
              "\n",
              "    .dataframe tbody tr th {\n",
              "        vertical-align: top;\n",
              "    }\n",
              "\n",
              "    .dataframe thead th {\n",
              "        text-align: right;\n",
              "    }\n",
              "</style>\n",
              "<table border=\"1\" class=\"dataframe\">\n",
              "  <thead>\n",
              "    <tr style=\"text-align: right;\">\n",
              "      <th></th>\n",
              "      <th>center</th>\n",
              "      <th>left</th>\n",
              "      <th>right</th>\n",
              "      <th>steering</th>\n",
              "      <th>throttle</th>\n",
              "      <th>reverse</th>\n",
              "      <th>speed</th>\n",
              "    </tr>\n",
              "  </thead>\n",
              "  <tbody>\n",
              "    <tr>\n",
              "      <th>0</th>\n",
              "      <td>center_2019_01_29_18_32_35_352.jpg</td>\n",
              "      <td>left_2019_01_29_18_32_35_352.jpg</td>\n",
              "      <td>right_2019_01_29_18_32_35_352.jpg</td>\n",
              "      <td>0.0</td>\n",
              "      <td>0.0</td>\n",
              "      <td>0.0</td>\n",
              "      <td>0.000084</td>\n",
              "    </tr>\n",
              "    <tr>\n",
              "      <th>1</th>\n",
              "      <td>center_2019_01_29_18_32_35_454.jpg</td>\n",
              "      <td>left_2019_01_29_18_32_35_454.jpg</td>\n",
              "      <td>right_2019_01_29_18_32_35_454.jpg</td>\n",
              "      <td>0.0</td>\n",
              "      <td>0.0</td>\n",
              "      <td>0.0</td>\n",
              "      <td>0.000080</td>\n",
              "    </tr>\n",
              "    <tr>\n",
              "      <th>2</th>\n",
              "      <td>center_2019_01_29_18_32_35_560.jpg</td>\n",
              "      <td>left_2019_01_29_18_32_35_560.jpg</td>\n",
              "      <td>right_2019_01_29_18_32_35_560.jpg</td>\n",
              "      <td>0.0</td>\n",
              "      <td>0.0</td>\n",
              "      <td>0.0</td>\n",
              "      <td>0.000079</td>\n",
              "    </tr>\n",
              "    <tr>\n",
              "      <th>3</th>\n",
              "      <td>center_2019_01_29_18_32_35_664.jpg</td>\n",
              "      <td>left_2019_01_29_18_32_35_664.jpg</td>\n",
              "      <td>right_2019_01_29_18_32_35_664.jpg</td>\n",
              "      <td>0.0</td>\n",
              "      <td>0.0</td>\n",
              "      <td>0.0</td>\n",
              "      <td>0.000078</td>\n",
              "    </tr>\n",
              "    <tr>\n",
              "      <th>4</th>\n",
              "      <td>center_2019_01_29_18_32_35_785.jpg</td>\n",
              "      <td>left_2019_01_29_18_32_35_785.jpg</td>\n",
              "      <td>right_2019_01_29_18_32_35_785.jpg</td>\n",
              "      <td>0.0</td>\n",
              "      <td>0.0</td>\n",
              "      <td>0.0</td>\n",
              "      <td>0.000080</td>\n",
              "    </tr>\n",
              "  </tbody>\n",
              "</table>\n",
              "</div>"
            ],
            "text/plain": [
              "                               center                              left  \\\n",
              "0  center_2019_01_29_18_32_35_352.jpg  left_2019_01_29_18_32_35_352.jpg   \n",
              "1  center_2019_01_29_18_32_35_454.jpg  left_2019_01_29_18_32_35_454.jpg   \n",
              "2  center_2019_01_29_18_32_35_560.jpg  left_2019_01_29_18_32_35_560.jpg   \n",
              "3  center_2019_01_29_18_32_35_664.jpg  left_2019_01_29_18_32_35_664.jpg   \n",
              "4  center_2019_01_29_18_32_35_785.jpg  left_2019_01_29_18_32_35_785.jpg   \n",
              "\n",
              "                               right  steering  throttle  reverse     speed  \n",
              "0  right_2019_01_29_18_32_35_352.jpg  0.0       0.0       0.0      0.000084  \n",
              "1  right_2019_01_29_18_32_35_454.jpg  0.0       0.0       0.0      0.000080  \n",
              "2  right_2019_01_29_18_32_35_560.jpg  0.0       0.0       0.0      0.000079  \n",
              "3  right_2019_01_29_18_32_35_664.jpg  0.0       0.0       0.0      0.000078  \n",
              "4  right_2019_01_29_18_32_35_785.jpg  0.0       0.0       0.0      0.000080  "
            ]
          },
          "metadata": {
            "tags": []
          },
          "execution_count": 29
        }
      ]
    },
    {
      "metadata": {
        "id": "8OK9pGCla9A8",
        "colab_type": "code",
        "colab": {
          "base_uri": "https://localhost:8080/",
          "height": 364
        },
        "outputId": "47aa8f0a-395a-47c3-83e5-4638400f8602"
      },
      "cell_type": "code",
      "source": [
        "num_bins = 25\n",
        "samples_per_bin = 200\n",
        "hist, bins = np.histogram(data['steering'], num_bins)\n",
        "center = (bins[:-1] + bins[1:]) * 0.5\n",
        "plt.bar(center, hist, width = 0.05)\n",
        "plt.plot((np.min(data['steering']), np.max(data['steering'])),\n",
        "        (samples_per_bin, samples_per_bin))"
      ],
      "execution_count": 30,
      "outputs": [
        {
          "output_type": "execute_result",
          "data": {
            "text/plain": [
              "[<matplotlib.lines.Line2D at 0x7f9685beefd0>]"
            ]
          },
          "metadata": {
            "tags": []
          },
          "execution_count": 30
        },
        {
          "output_type": "display_data",
          "data": {
            "image/png": "[encoded data removed]",
            "text/plain": [
              "<Figure size 576x396 with 1 Axes>"
            ]
          },
          "metadata": {
            "tags": []
          }
        }
      ]
    },
    {
      "metadata": {
        "id": "Xpn_YPdedOHe",
        "colab_type": "code",
        "colab": {
          "base_uri": "https://localhost:8080/",
          "height": 415
        },
        "outputId": "2b175c17-2118-404f-8d9e-5c00e880f3c1"
      },
      "cell_type": "code",
      "source": [
        "print('total data:', len(data))\n",
        "remove_list = []\n",
        "for j in range(num_bins):\n",
        "  list_ = []\n",
        "  for i in range(len(data['steering'])):\n",
        "    if data['steering'][i] >= bins[j] and data['steering'][i] <= bins[j + 1]:\n",
        "      list_.append(i)\n",
        "  list_ = shuffle(list_)\n",
        "  list_ = list_[samples_per_bin:]\n",
        "  remove_list.extend(list_)\n",
        "\n",
        "print('removed', len(remove_list))\n",
        "data.drop(data.index[remove_list], inplace=True)\n",
        "print('remaining', len(data))\n",
        "\n",
        "hist, _ = np.histogram(data['steering'], (num_bins))\n",
        "plt.bar(center, hist, width = 0.05)\n",
        "plt.plot((np.min(data['steering']), np.max(data['steering'])),\n",
        "        (samples_per_bin, samples_per_bin))"
      ],
      "execution_count": 31,
      "outputs": [
        {
          "output_type": "stream",
          "text": [
            "total data: 4345\n",
            "removed 3202\n",
            "remaining 1143\n"
          ],
          "name": "stdout"
        },
        {
          "output_type": "execute_result",
          "data": {
            "text/plain": [
              "[<matplotlib.lines.Line2D at 0x7f96858b4f98>]"
            ]
          },
          "metadata": {
            "tags": []
          },
          "execution_count": 31
        },
        {
          "output_type": "display_data",
          "data": {
            "image/png": "[encoded data removed]",
            "text/plain": [
              "<Figure size 576x396 with 1 Axes>"
            ]
          },
          "metadata": {
            "tags": []
          }
        }
      ]
    },
    {
      "metadata": {
        "id": "s1_WtcuwjNtP",
        "colab_type": "code",
        "colab": {}
      },
      "cell_type": "code",
      "source": [
        ""
      ],
      "execution_count": 0,
      "outputs": []
    }
  ]
}