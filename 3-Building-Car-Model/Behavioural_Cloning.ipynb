{
  "nbformat": 4,
  "nbformat_minor": 0,
  "metadata": {
    "colab": {
      "name": "Behavioural Cloning.ipynb",
      "version": "0.3.2",
      "provenance": [],
      "collapsed_sections": []
    },
    "kernelspec": {
      "name": "python3",
      "display_name": "Python 3"
    }
  },
  "cells": [
    {
      "metadata": {
        "id": "nKxNEt1FXbjt",
        "colab_type": "code",
        "colab": {
          "base_uri": "https://localhost:8080/",
          "height": 136
        },
        "outputId": "eb316e9c-3b96-48fd-9229-670049ff16d7"
      },
      "cell_type": "code",
      "source": [
        "!git clone https://github.com/afozbek/Track_Data"
      ],
      "execution_count": 1,
      "outputs": [
        {
          "output_type": "stream",
          "text": [
            "Cloning into 'Track_Data'...\n",
            "remote: Enumerating objects: 12850, done.\u001b[K\n",
            "remote: Counting objects: 100% (12850/12850), done.\u001b[K\n",
            "remote: Compressing objects: 100% (12850/12850), done.\u001b[K\n",
            "remote: Total 12850 (delta 0), reused 12850 (delta 0), pack-reused 0\u001b[K\n",
            "Receiving objects: 100% (12850/12850), 156.69 MiB | 36.93 MiB/s, done.\n",
            "Checking out files: 100% (13036/13036), done.\n"
          ],
          "name": "stdout"
        }
      ]
    },
    {
      "metadata": {
        "id": "EEhmeZVTXje8",
        "colab_type": "code",
        "colab": {
          "base_uri": "https://localhost:8080/",
          "height": 34
        },
        "outputId": "3e5ec7aa-0329-43c8-b51c-e3b829bc6c42"
      },
      "cell_type": "code",
      "source": [
        "!ls Track_Data"
      ],
      "execution_count": 2,
      "outputs": [
        {
          "output_type": "stream",
          "text": [
            "driving_log.csv  IMG\n"
          ],
          "name": "stdout"
        }
      ]
    },
    {
      "metadata": {
        "id": "vMDXTvpqXsl8",
        "colab_type": "code",
        "colab": {}
      },
      "cell_type": "code",
      "source": [
        "import os\n",
        "import numpy as np\n",
        "import matplotlib.pyplot as plt\n",
        "import keras\n",
        "from keras.models import Sequential\n",
        "from keras.optimizers import Adam\n",
        "from keras.layers import Conv2D, MaxPooling2D, Dropout, Flatten, Dense\n",
        "import cv2\n",
        "import pandas as pd\n",
        "import ntpath\n",
        "import random"
      ],
      "execution_count": 0,
      "outputs": []
    },
    {
      "metadata": {
        "id": "J6V6QzsLYKJ6",
        "colab_type": "code",
        "colab": {
          "base_uri": "https://localhost:8080/",
          "height": 309
        },
        "outputId": "06fb3ee6-5280-4203-8d40-68563719b7fd"
      },
      "cell_type": "code",
      "source": [
        "datadir = 'Track_Data'\n",
        "columns = ['center', 'left', 'right',\n",
        "           'steering', 'throttle', 'reverse', 'speed']\n",
        "data = pd.read_csv(os.path.join(datadir, 'driving_log.csv'),\n",
        "             names=columns)\n",
        "pd.set_option('display.max_colwidth', -1)\n",
        "data.head()"
      ],
      "execution_count": 10,
      "outputs": [
        {
          "output_type": "execute_result",
          "data": {
            "text/html": [
              "<div>\n",
              "<style scoped>\n",
              "    .dataframe tbody tr th:only-of-type {\n",
              "        vertical-align: middle;\n",
              "    }\n",
              "\n",
              "    .dataframe tbody tr th {\n",
              "        vertical-align: top;\n",
              "    }\n",
              "\n",
              "    .dataframe thead th {\n",
              "        text-align: right;\n",
              "    }\n",
              "</style>\n",
              "<table border=\"1\" class=\"dataframe\">\n",
              "  <thead>\n",
              "    <tr style=\"text-align: right;\">\n",
              "      <th></th>\n",
              "      <th>center</th>\n",
              "      <th>left</th>\n",
              "      <th>right</th>\n",
              "      <th>steering</th>\n",
              "      <th>throttle</th>\n",
              "      <th>reverse</th>\n",
              "      <th>speed</th>\n",
              "    </tr>\n",
              "  </thead>\n",
              "  <tbody>\n",
              "    <tr>\n",
              "      <th>0</th>\n",
              "      <td>C:\\Users\\Furkan-Ozbek\\Desktop\\DATA\\IMG\\center_2019_01_29_18_32_35_352.jpg</td>\n",
              "      <td>C:\\Users\\Furkan-Ozbek\\Desktop\\DATA\\IMG\\left_2019_01_29_18_32_35_352.jpg</td>\n",
              "      <td>C:\\Users\\Furkan-Ozbek\\Desktop\\DATA\\IMG\\right_2019_01_29_18_32_35_352.jpg</td>\n",
              "      <td>0.0</td>\n",
              "      <td>0.0</td>\n",
              "      <td>0.0</td>\n",
              "      <td>0.000084</td>\n",
              "    </tr>\n",
              "    <tr>\n",
              "      <th>1</th>\n",
              "      <td>C:\\Users\\Furkan-Ozbek\\Desktop\\DATA\\IMG\\center_2019_01_29_18_32_35_454.jpg</td>\n",
              "      <td>C:\\Users\\Furkan-Ozbek\\Desktop\\DATA\\IMG\\left_2019_01_29_18_32_35_454.jpg</td>\n",
              "      <td>C:\\Users\\Furkan-Ozbek\\Desktop\\DATA\\IMG\\right_2019_01_29_18_32_35_454.jpg</td>\n",
              "      <td>0.0</td>\n",
              "      <td>0.0</td>\n",
              "      <td>0.0</td>\n",
              "      <td>0.000080</td>\n",
              "    </tr>\n",
              "    <tr>\n",
              "      <th>2</th>\n",
              "      <td>C:\\Users\\Furkan-Ozbek\\Desktop\\DATA\\IMG\\center_2019_01_29_18_32_35_560.jpg</td>\n",
              "      <td>C:\\Users\\Furkan-Ozbek\\Desktop\\DATA\\IMG\\left_2019_01_29_18_32_35_560.jpg</td>\n",
              "      <td>C:\\Users\\Furkan-Ozbek\\Desktop\\DATA\\IMG\\right_2019_01_29_18_32_35_560.jpg</td>\n",
              "      <td>0.0</td>\n",
              "      <td>0.0</td>\n",
              "      <td>0.0</td>\n",
              "      <td>0.000079</td>\n",
              "    </tr>\n",
              "    <tr>\n",
              "      <th>3</th>\n",
              "      <td>C:\\Users\\Furkan-Ozbek\\Desktop\\DATA\\IMG\\center_2019_01_29_18_32_35_664.jpg</td>\n",
              "      <td>C:\\Users\\Furkan-Ozbek\\Desktop\\DATA\\IMG\\left_2019_01_29_18_32_35_664.jpg</td>\n",
              "      <td>C:\\Users\\Furkan-Ozbek\\Desktop\\DATA\\IMG\\right_2019_01_29_18_32_35_664.jpg</td>\n",
              "      <td>0.0</td>\n",
              "      <td>0.0</td>\n",
              "      <td>0.0</td>\n",
              "      <td>0.000078</td>\n",
              "    </tr>\n",
              "    <tr>\n",
              "      <th>4</th>\n",
              "      <td>C:\\Users\\Furkan-Ozbek\\Desktop\\DATA\\IMG\\center_2019_01_29_18_32_35_785.jpg</td>\n",
              "      <td>C:\\Users\\Furkan-Ozbek\\Desktop\\DATA\\IMG\\left_2019_01_29_18_32_35_785.jpg</td>\n",
              "      <td>C:\\Users\\Furkan-Ozbek\\Desktop\\DATA\\IMG\\right_2019_01_29_18_32_35_785.jpg</td>\n",
              "      <td>0.0</td>\n",
              "      <td>0.0</td>\n",
              "      <td>0.0</td>\n",
              "      <td>0.000080</td>\n",
              "    </tr>\n",
              "  </tbody>\n",
              "</table>\n",
              "</div>"
            ],
            "text/plain": [
              "                                                                      center  \\\n",
              "0  C:\\Users\\Furkan-Ozbek\\Desktop\\DATA\\IMG\\center_2019_01_29_18_32_35_352.jpg   \n",
              "1  C:\\Users\\Furkan-Ozbek\\Desktop\\DATA\\IMG\\center_2019_01_29_18_32_35_454.jpg   \n",
              "2  C:\\Users\\Furkan-Ozbek\\Desktop\\DATA\\IMG\\center_2019_01_29_18_32_35_560.jpg   \n",
              "3  C:\\Users\\Furkan-Ozbek\\Desktop\\DATA\\IMG\\center_2019_01_29_18_32_35_664.jpg   \n",
              "4  C:\\Users\\Furkan-Ozbek\\Desktop\\DATA\\IMG\\center_2019_01_29_18_32_35_785.jpg   \n",
              "\n",
              "                                                                       left  \\\n",
              "0   C:\\Users\\Furkan-Ozbek\\Desktop\\DATA\\IMG\\left_2019_01_29_18_32_35_352.jpg   \n",
              "1   C:\\Users\\Furkan-Ozbek\\Desktop\\DATA\\IMG\\left_2019_01_29_18_32_35_454.jpg   \n",
              "2   C:\\Users\\Furkan-Ozbek\\Desktop\\DATA\\IMG\\left_2019_01_29_18_32_35_560.jpg   \n",
              "3   C:\\Users\\Furkan-Ozbek\\Desktop\\DATA\\IMG\\left_2019_01_29_18_32_35_664.jpg   \n",
              "4   C:\\Users\\Furkan-Ozbek\\Desktop\\DATA\\IMG\\left_2019_01_29_18_32_35_785.jpg   \n",
              "\n",
              "                                                                       right  \\\n",
              "0   C:\\Users\\Furkan-Ozbek\\Desktop\\DATA\\IMG\\right_2019_01_29_18_32_35_352.jpg   \n",
              "1   C:\\Users\\Furkan-Ozbek\\Desktop\\DATA\\IMG\\right_2019_01_29_18_32_35_454.jpg   \n",
              "2   C:\\Users\\Furkan-Ozbek\\Desktop\\DATA\\IMG\\right_2019_01_29_18_32_35_560.jpg   \n",
              "3   C:\\Users\\Furkan-Ozbek\\Desktop\\DATA\\IMG\\right_2019_01_29_18_32_35_664.jpg   \n",
              "4   C:\\Users\\Furkan-Ozbek\\Desktop\\DATA\\IMG\\right_2019_01_29_18_32_35_785.jpg   \n",
              "\n",
              "   steering  throttle  reverse     speed  \n",
              "0  0.0       0.0       0.0      0.000084  \n",
              "1  0.0       0.0       0.0      0.000080  \n",
              "2  0.0       0.0       0.0      0.000079  \n",
              "3  0.0       0.0       0.0      0.000078  \n",
              "4  0.0       0.0       0.0      0.000080  "
            ]
          },
          "metadata": {
            "tags": []
          },
          "execution_count": 10
        }
      ]
    },
    {
      "metadata": {
        "id": "C7i0f0VLadHM",
        "colab_type": "code",
        "colab": {
          "base_uri": "https://localhost:8080/",
          "height": 224
        },
        "outputId": "d7512f17-118a-4aba-e86f-bda1141751d6"
      },
      "cell_type": "code",
      "source": [
        "def path_leaf(path):\n",
        "  head, tail = ntpath.split(path)\n",
        "  return tail\n",
        "data['center'] = data['center'].apply(path_leaf)\n",
        "data['left'] = data['left'].apply(path_leaf)\n",
        "data['right'] = data['right'].apply(path_leaf)\n",
        "data.head()"
      ],
      "execution_count": 12,
      "outputs": [
        {
          "output_type": "execute_result",
          "data": {
            "text/html": [
              "<div>\n",
              "<style scoped>\n",
              "    .dataframe tbody tr th:only-of-type {\n",
              "        vertical-align: middle;\n",
              "    }\n",
              "\n",
              "    .dataframe tbody tr th {\n",
              "        vertical-align: top;\n",
              "    }\n",
              "\n",
              "    .dataframe thead th {\n",
              "        text-align: right;\n",
              "    }\n",
              "</style>\n",
              "<table border=\"1\" class=\"dataframe\">\n",
              "  <thead>\n",
              "    <tr style=\"text-align: right;\">\n",
              "      <th></th>\n",
              "      <th>center</th>\n",
              "      <th>left</th>\n",
              "      <th>right</th>\n",
              "      <th>steering</th>\n",
              "      <th>throttle</th>\n",
              "      <th>reverse</th>\n",
              "      <th>speed</th>\n",
              "    </tr>\n",
              "  </thead>\n",
              "  <tbody>\n",
              "    <tr>\n",
              "      <th>0</th>\n",
              "      <td>center_2019_01_29_18_32_35_352.jpg</td>\n",
              "      <td>left_2019_01_29_18_32_35_352.jpg</td>\n",
              "      <td>right_2019_01_29_18_32_35_352.jpg</td>\n",
              "      <td>0.0</td>\n",
              "      <td>0.0</td>\n",
              "      <td>0.0</td>\n",
              "      <td>0.000084</td>\n",
              "    </tr>\n",
              "    <tr>\n",
              "      <th>1</th>\n",
              "      <td>center_2019_01_29_18_32_35_454.jpg</td>\n",
              "      <td>left_2019_01_29_18_32_35_454.jpg</td>\n",
              "      <td>right_2019_01_29_18_32_35_454.jpg</td>\n",
              "      <td>0.0</td>\n",
              "      <td>0.0</td>\n",
              "      <td>0.0</td>\n",
              "      <td>0.000080</td>\n",
              "    </tr>\n",
              "    <tr>\n",
              "      <th>2</th>\n",
              "      <td>center_2019_01_29_18_32_35_560.jpg</td>\n",
              "      <td>left_2019_01_29_18_32_35_560.jpg</td>\n",
              "      <td>right_2019_01_29_18_32_35_560.jpg</td>\n",
              "      <td>0.0</td>\n",
              "      <td>0.0</td>\n",
              "      <td>0.0</td>\n",
              "      <td>0.000079</td>\n",
              "    </tr>\n",
              "    <tr>\n",
              "      <th>3</th>\n",
              "      <td>center_2019_01_29_18_32_35_664.jpg</td>\n",
              "      <td>left_2019_01_29_18_32_35_664.jpg</td>\n",
              "      <td>right_2019_01_29_18_32_35_664.jpg</td>\n",
              "      <td>0.0</td>\n",
              "      <td>0.0</td>\n",
              "      <td>0.0</td>\n",
              "      <td>0.000078</td>\n",
              "    </tr>\n",
              "    <tr>\n",
              "      <th>4</th>\n",
              "      <td>center_2019_01_29_18_32_35_785.jpg</td>\n",
              "      <td>left_2019_01_29_18_32_35_785.jpg</td>\n",
              "      <td>right_2019_01_29_18_32_35_785.jpg</td>\n",
              "      <td>0.0</td>\n",
              "      <td>0.0</td>\n",
              "      <td>0.0</td>\n",
              "      <td>0.000080</td>\n",
              "    </tr>\n",
              "  </tbody>\n",
              "</table>\n",
              "</div>"
            ],
            "text/plain": [
              "                               center                              left  \\\n",
              "0  center_2019_01_29_18_32_35_352.jpg  left_2019_01_29_18_32_35_352.jpg   \n",
              "1  center_2019_01_29_18_32_35_454.jpg  left_2019_01_29_18_32_35_454.jpg   \n",
              "2  center_2019_01_29_18_32_35_560.jpg  left_2019_01_29_18_32_35_560.jpg   \n",
              "3  center_2019_01_29_18_32_35_664.jpg  left_2019_01_29_18_32_35_664.jpg   \n",
              "4  center_2019_01_29_18_32_35_785.jpg  left_2019_01_29_18_32_35_785.jpg   \n",
              "\n",
              "                               right  steering  throttle  reverse     speed  \n",
              "0  right_2019_01_29_18_32_35_352.jpg  0.0       0.0       0.0      0.000084  \n",
              "1  right_2019_01_29_18_32_35_454.jpg  0.0       0.0       0.0      0.000080  \n",
              "2  right_2019_01_29_18_32_35_560.jpg  0.0       0.0       0.0      0.000079  \n",
              "3  right_2019_01_29_18_32_35_664.jpg  0.0       0.0       0.0      0.000078  \n",
              "4  right_2019_01_29_18_32_35_785.jpg  0.0       0.0       0.0      0.000080  "
            ]
          },
          "metadata": {
            "tags": []
          },
          "execution_count": 12
        }
      ]
    },
    {
      "metadata": {
        "id": "8OK9pGCla9A8",
        "colab_type": "code",
        "colab": {
          "base_uri": "https://localhost:8080/",
          "height": 364
        },
        "outputId": "5804cdce-67b5-4fb9-918c-1a33f9a79422"
      },
      "cell_type": "code",
      "source": [
        "num_bins = 25\n",
        "samples_per_bin = 200\n",
        "hist, bins = np.histogram(data['steering'], num_bins)\n",
        "center = (bins[:-1] + bins[1:]) * 0.5\n",
        "plt.bar(center, hist, width = 0.05)\n",
        "plt.plot((np.min(data['steering']), np.max(data['steering'])),\n",
        "        (samples_per_bin, samples_per_bin))"
      ],
      "execution_count": 15,
      "outputs": [
        {
          "output_type": "execute_result",
          "data": {
            "text/plain": [
              "[<matplotlib.lines.Line2D at 0x7f96883f1390>]"
            ]
          },
          "metadata": {
            "tags": []
          },
          "execution_count": 15
        },
        {
          "output_type": "display_data",
          "data": {
            "image/png": "[encoded data removed]",
            "text/plain": [
              "<Figure size 576x396 with 1 Axes>"
            ]
          },
          "metadata": {
            "tags": []
          }
        }
      ]
    },
    {
      "metadata": {
        "id": "Xpn_YPdedOHe",
        "colab_type": "code",
        "colab": {}
      },
      "cell_type": "code",
      "source": [
        ""
      ],
      "execution_count": 0,
      "outputs": []
    }
  ]
}