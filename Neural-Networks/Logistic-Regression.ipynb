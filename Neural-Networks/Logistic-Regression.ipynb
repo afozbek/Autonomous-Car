{
 "cells": [
  {
   "cell_type": "code",
   "execution_count": 39,
   "metadata": {},
   "outputs": [],
   "source": [
    "import numpy as np\n",
    "import matplotlib.pyplot as plt"
   ]
  },
  {
   "cell_type": "code",
   "execution_count": 47,
   "metadata": {},
   "outputs": [],
   "source": [
    "def draw (x1, x2):\n",
    "    ln = plt.plot(x1, x2)\n",
    "    \n",
    "def sigmoid(score):\n",
    "    return 1 / (1 + np.exp(-score)) #exponential e^(1 / score)"
   ]
  },
  {
   "cell_type": "code",
   "execution_count": 50,
   "metadata": {},
   "outputs": [],
   "source": [
    "n_pts = 100 #horizontally align\n",
    "np.random.seed(0)\n",
    "bias = np.ones(n_pts)\n",
    "ran_x1_val = np.random.normal(10, 3, n_pts) #normal distripution \n",
    "ran_x2_val = np.random.normal(12, 3, n_pts)\n",
    "\n",
    "#top_region(100 row) #nested array with vertically and horizontally coordinates\n",
    "top_region = np.array([ran_x1_val, ran_x2_val, bias]).T # transpoze()\n",
    "bottom_region = np.array([np.random.normal(5, 3, n_pts),\n",
    "                          np.random.normal(6, 3, n_pts), bias]).T\n",
    "all_points = np.vstack((top_region, bottom_region))\n",
    "\n",
    "w1 = -0.2\n",
    "w2 = -0.35\n",
    "b = 3.5\n",
    "\n",
    "line_parameters = np.matrix([w1, w2, b]).T #for matrix multipication(1 row)\n",
    "x1 = np.array([bottom_region[:, 0].min(), top_region[:, 0].max()])\n",
    "#w1x1 + w2x2 + b = 0\n",
    "x2 = - b / w2 + x1 * (- w1 / w2)\n",
    "#print(x1, x2)  ##Points (-3.3, 11.8), (16.8, 0.3)\n",
    "linear_combination = all_points * line_parameters\n",
    "probabilities = sigmoid(linear_combination) #olasılık hesaplama "
   ]
  },
  {
   "cell_type": "code",
   "execution_count": 51,
   "metadata": {},
   "outputs": [
    {
     "data": {
      "image/png": "[encoded data removed]",
      "text/plain": [
       "<Figure size 288x288 with 1 Axes>"
      ]
     },
     "metadata": {
      "needs_background": "light"
     },
     "output_type": "display_data"
    }
   ],
   "source": [
    "_, ax = plt.subplots(figsize=(4, 4))\n",
    "ax.scatter(top_region[:, 0], top_region[:, 1], color='r') #1st argument which row --> : (all row)\n",
    "                                                          #2nd argument which index\n",
    "ax.scatter(bottom_region[:, 0], bottom_region[:, 1], color='b')\n",
    "draw(x1, x2)\n",
    "plt.show()  "
   ]
  }
 ],
 "metadata": {
  "kernelspec": {
   "display_name": "Python 3",
   "language": "python",
   "name": "python3"
  },
  "language_info": {
   "codemirror_mode": {
    "name": "ipython",
    "version": 3
   },
   "file_extension": ".py",
   "mimetype": "text/x-python",
   "name": "python",
   "nbconvert_exporter": "python",
   "pygments_lexer": "ipython3",
   "version": "3.7.0"
  }
 },
 "nbformat": 4,
 "nbformat_minor": 2
}
