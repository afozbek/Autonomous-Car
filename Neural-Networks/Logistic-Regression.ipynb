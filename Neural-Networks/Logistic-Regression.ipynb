{
 "cells": [
  {
   "cell_type": "code",
   "execution_count": 3,
   "metadata": {},
   "outputs": [],
   "source": [
    "import numpy as np\n",
    "import matplotlib.pyplot as plt"
   ]
  },
  {
   "cell_type": "code",
   "execution_count": 32,
   "metadata": {},
   "outputs": [
    {
     "data": {
      "image/png": "[encoded data removed]",
      "text/plain": [
       "<Figure size 288x288 with 1 Axes>"
      ]
     },
     "metadata": {
      "needs_background": "light"
     },
     "output_type": "display_data"
    }
   ],
   "source": [
    "n_pts = 100 #horizontally align\n",
    "np.random.seed(0)\n",
    "ran_x1_val = np.random.normal(10, 3, n_pts) #normal distripution \n",
    "ran_x2_val = np.random.normal(12, 3, n_pts)\n",
    "\n",
    "#top_region(100 row) #nested array with vertically and horizontally coordinates\n",
    "top_region = np.array([ran_x1_val, ran_x2_val]).T # transpoze()\n",
    "bottom_region = np.array([np.random.normal(5, 3, n_pts), np.random.normal(6, 3, n_pts)]).T\n",
    "\n",
    "_, ax = plt.subplots(figsize=(4, 4))\n",
    "ax.scatter(top_region[:, 0], top_region[:, 1], color='r') #1st argument which row --> : (all row)\n",
    "                                                          #2nd argument which index\n",
    "ax.scatter(bottom_region[:, 0], bottom_region[:, 1], color='b')\n",
    "\n",
    "plt.show()  "
   ]
  },
  {
   "cell_type": "code",
   "execution_count": null,
   "metadata": {},
   "outputs": [],
   "source": []
  },
  {
   "cell_type": "code",
   "execution_count": null,
   "metadata": {},
   "outputs": [],
   "source": []
  },
  {
   "cell_type": "code",
   "execution_count": null,
   "metadata": {},
   "outputs": [],
   "source": []
  }
 ],
 "metadata": {
  "kernelspec": {
   "display_name": "Python 3",
   "language": "python",
   "name": "python3"
  },
  "language_info": {
   "codemirror_mode": {
    "name": "ipython",
    "version": 3
   },
   "file_extension": ".py",
   "mimetype": "text/x-python",
   "name": "python",
   "nbconvert_exporter": "python",
   "pygments_lexer": "ipython3",
   "version": "3.7.0"
  }
 },
 "nbformat": 4,
 "nbformat_minor": 2
}
