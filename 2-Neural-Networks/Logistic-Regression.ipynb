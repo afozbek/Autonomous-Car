{
 "cells": [
  {
   "cell_type": "code",
   "execution_count": 1,
   "metadata": {},
   "outputs": [],
   "source": [
    "import numpy as np\n",
    "import matplotlib.pyplot as plt"
   ]
  },
  {
   "cell_type": "code",
   "execution_count": 2,
   "metadata": {},
   "outputs": [],
   "source": [
    "def draw (x1, x2):\n",
    "    ln = plt.plot(x1, x2)\n",
    "    \n",
    "def sigmoid(score):\n",
    "    return 1 / (1 + np.exp(-score)) #exponential e^(1 / score)\n",
    "def calculate_error(line_parameters, points, y):\n",
    "    m = points.shape[0]\n",
    "    p = sigmoid(points * line_parameters) #olasılık hesaplama \n",
    "    cross_entropy = -(1 / m) * (np.log(p).T * y + np.log(1 - p).T * (1 - y))\n",
    "    return cross_entropy\n",
    "def gradient_descent(line_parameters, points, y, alpha):\n",
    "    m = points.shape[0]\n",
    "    for i in range(2000):\n",
    "        p = sigmoid(points * line_parameters) #olasılık hesaplama \n",
    "        gradient = points.T * (p - y) * (alpha / m )\n",
    "        line_parameters = line_parameters - gradient\n",
    "        w1 = line_parameters.item(0)\n",
    "        w2 = line_parameters.item(1)\n",
    "        b = line_parameters.item(2)\n",
    "        x1 = np.array([points[:, 0].min(), points[:, 0].max()])\n",
    "        #w1x1 + w2x2 + b = 0\n",
    "        x2 = - b / w2 + x1 * (- w1 / w2)\n",
    "    draw(x1, x2)"
   ]
  },
  {
   "cell_type": "code",
   "execution_count": 3,
   "metadata": {},
   "outputs": [],
   "source": [
    "n_pts = 100 #horizontally align\n",
    "np.random.seed(0)\n",
    "bias = np.ones(n_pts)\n",
    "ran_x1_val = np.random.normal(10, 3, n_pts) #normal distripution \n",
    "ran_x2_val = np.random.normal(12, 3, n_pts)\n",
    "\n",
    "#top_region(100 row) #nested array with vertically and horizontally coordinates\n",
    "top_region = np.array([ran_x1_val, ran_x2_val, bias]).T # transpoze()\n",
    "bottom_region = np.array([np.random.normal(5, 3, n_pts),\n",
    "                          np.random.normal(6, 3, n_pts), bias]).T\n",
    "all_points = np.vstack((top_region, bottom_region))\n",
    "\n",
    "line_parameters = np.matrix([np.zeros(3)]).T # T for matrix multipication(1 row)\n",
    "\n",
    "#print(x1, x2)  ##Points (-3.3, 11.8), (16.8, 0.3)\n",
    "y = np.array([np.zeros(n_pts), np.ones(n_pts)]).reshape(n_pts * 2, 1 )"
   ]
  },
  {
   "cell_type": "code",
   "execution_count": 4,
   "metadata": {
    "scrolled": true
   },
   "outputs": [
    {
     "data": {
      "image/png": "[encoded data removed]",
      "text/plain": [
       "<Figure size 288x288 with 1 Axes>"
      ]
     },
     "metadata": {
      "needs_background": "light"
     },
     "output_type": "display_data"
    }
   ],
   "source": [
    "_, ax = plt.subplots(figsize=(4, 4))\n",
    "ax.scatter(top_region[:, 0], top_region[:, 1], color='r') #1st argument which row --> : (all row)\n",
    "                                                          #2nd argument which index\n",
    "ax.scatter(bottom_region[:, 0], bottom_region[:, 1], color='b')\n",
    "gradient_descent(line_parameters, all_points, y, 0.06)\n",
    "plt.show()  "
   ]
  },
  {
   "cell_type": "code",
   "execution_count": 5,
   "metadata": {},
   "outputs": [
    {
     "name": "stdout",
     "output_type": "stream",
     "text": [
      "[[0.69314718]]\n"
     ]
    }
   ],
   "source": [
    "print(calculate_error(line_parameters, all_points, y))"
   ]
  }
 ],
 "metadata": {
  "kernelspec": {
   "display_name": "Python 3",
   "language": "python",
   "name": "python3"
  },
  "language_info": {
   "codemirror_mode": {
    "name": "ipython",
    "version": 3
   },
   "file_extension": ".py",
   "mimetype": "text/x-python",
   "name": "python",
   "nbconvert_exporter": "python",
   "pygments_lexer": "ipython3",
   "version": "3.7.0"
  }
 },
 "nbformat": 4,
 "nbformat_minor": 2
}
